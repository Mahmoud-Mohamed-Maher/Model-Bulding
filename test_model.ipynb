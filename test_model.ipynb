{
 "cells": [
  {
   "cell_type": "code",
   "execution_count": 51,
   "metadata": {},
   "outputs": [],
   "source": [
    "import cobra\n"
   ]
  },
  {
   "cell_type": "code",
   "execution_count": 52,
   "metadata": {},
   "outputs": [],
   "source": [
    "from cobra import Model,Reaction,Metabolite\n"
   ]
  },
  {
   "cell_type": "code",
   "execution_count": 53,
   "metadata": {},
   "outputs": [],
   "source": [
    "model=Model('Model 1 ')\n"
   ]
  },
  {
   "cell_type": "code",
   "execution_count": 54,
   "metadata": {},
   "outputs": [],
   "source": [
    "\n",
    "\n",
    "####### ALL REACTIONS IN MODEL ######\n",
    "\n",
    "\n",
    "# R1 : A ====> B \n",
    "\n",
    "R1=Reaction('Reaction1')\n",
    "R1.name='Reaction 1'\n",
    "R1.lower_bound=0\n",
    "R1.upper_bound=1000\n",
    "\n",
    "\n",
    "\n",
    "\n",
    "# R2 : B =====> c \n",
    "\n",
    "R2=Reaction('Reaction2')\n",
    "R2.name='Reaction 2'\n",
    "R2.lower_bound=0\n",
    "R2.upper_bound=1000\n",
    "\n",
    "\n",
    "\n",
    "# Result : C =====>  \n",
    "\n",
    "Result=Reaction('Result')\n",
    "Result.name='Result'\n",
    "Result.lower_bound=0\n",
    "Result.upper_bound=1000\n",
    "\n",
    "\n",
    "\n",
    "\n",
    "# R0 : =====> A \n",
    "\n",
    "R0=Reaction('Reaction0')\n",
    "R0.name='Reaction 0'\n",
    "R0.lower_bound=40\n",
    "R0.upper_bound=40\n",
    "\n",
    "\n",
    "\n",
    "\n",
    "\n",
    "# R3 : A =====> ATP \n",
    "\n",
    "R3=Reaction('Reaction3')\n",
    "R3.name='Reaction 3'\n",
    "R3.lower_bound=35\n",
    "R3.upper_bound=35\n",
    "\n",
    "\n",
    "\n",
    "\n",
    "# R4 : ATP =====>  \n",
    "\n",
    "R4=Reaction('Reaction4')\n",
    "R4.name='Reaction 4'\n",
    "R4.lower_bound=0\n",
    "R4.upper_bound=1000"
   ]
  },
  {
   "cell_type": "code",
   "execution_count": 55,
   "metadata": {},
   "outputs": [],
   "source": [
    "\n",
    "\n",
    "##  ALL METABOLITES IN MODEL ##\n",
    "\n",
    "\n",
    "A= Metabolite('A',compartment='c')\n",
    "\n",
    "B=Metabolite('B',compartment='c')\n",
    "\n",
    "C= Metabolite('C',compartment='c')\n",
    "\n",
    "ATP= Metabolite('ATP',compartment='c')\n"
   ]
  },
  {
   "cell_type": "code",
   "execution_count": 56,
   "metadata": {},
   "outputs": [],
   "source": [
    "\n",
    "\n",
    "## ADDING METABOLITES TO REACTIONS ##\n",
    "\n",
    "\n",
    "R1.add_metabolites({A:-1,B:1})\n",
    "\n",
    "\n",
    "R2.add_metabolites({B:-1,C:1})\n",
    "\n",
    "\n",
    "R0.add_metabolites({A:1})\n",
    "\n",
    "\n",
    "Result.add_metabolites({C:-1})\n",
    "\n",
    "\n",
    "R3.add_metabolites({A:-1,ATP:1})\n",
    "\n",
    "\n",
    "R4.add_metabolites({ATP:-1})\n"
   ]
  },
  {
   "cell_type": "code",
   "execution_count": 57,
   "metadata": {},
   "outputs": [],
   "source": [
    "\n",
    "# ADD RAECTIONS TO THE MODEL #\n",
    "\n",
    "model.add_reactions([R0,R1,R2,R3,R4,Result])\n"
   ]
  },
  {
   "cell_type": "code",
   "execution_count": 58,
   "metadata": {},
   "outputs": [],
   "source": [
    "\n",
    "\n",
    "# Put Result AS A OBJECTIVE FUNCTION  #\n",
    "\n",
    "model.objective = Result\n"
   ]
  },
  {
   "cell_type": "code",
   "execution_count": 59,
   "metadata": {},
   "outputs": [
    {
     "data": {
      "text/html": [
       "<strong><em>Optimal</em> solution with objective value 5.000</strong><br><div>\n",
       "<style scoped>\n",
       "    .dataframe tbody tr th:only-of-type {\n",
       "        vertical-align: middle;\n",
       "    }\n",
       "\n",
       "    .dataframe tbody tr th {\n",
       "        vertical-align: top;\n",
       "    }\n",
       "\n",
       "    .dataframe thead th {\n",
       "        text-align: right;\n",
       "    }\n",
       "</style>\n",
       "<table border=\"1\" class=\"dataframe\">\n",
       "  <thead>\n",
       "    <tr style=\"text-align: right;\">\n",
       "      <th></th>\n",
       "      <th>fluxes</th>\n",
       "      <th>reduced_costs</th>\n",
       "    </tr>\n",
       "  </thead>\n",
       "  <tbody>\n",
       "    <tr>\n",
       "      <th>Reaction0</th>\n",
       "      <td>40.0</td>\n",
       "      <td>2.0</td>\n",
       "    </tr>\n",
       "    <tr>\n",
       "      <th>Reaction1</th>\n",
       "      <td>5.0</td>\n",
       "      <td>0.0</td>\n",
       "    </tr>\n",
       "    <tr>\n",
       "      <th>Reaction2</th>\n",
       "      <td>5.0</td>\n",
       "      <td>0.0</td>\n",
       "    </tr>\n",
       "    <tr>\n",
       "      <th>Reaction3</th>\n",
       "      <td>35.0</td>\n",
       "      <td>-2.0</td>\n",
       "    </tr>\n",
       "    <tr>\n",
       "      <th>Reaction4</th>\n",
       "      <td>35.0</td>\n",
       "      <td>0.0</td>\n",
       "    </tr>\n",
       "    <tr>\n",
       "      <th>Result</th>\n",
       "      <td>5.0</td>\n",
       "      <td>0.0</td>\n",
       "    </tr>\n",
       "  </tbody>\n",
       "</table>\n",
       "</div>"
      ],
      "text/plain": [
       "<Solution 5.000 at 0x2957ba81a48>"
      ]
     },
     "execution_count": 59,
     "metadata": {},
     "output_type": "execute_result"
    }
   ],
   "source": [
    "\n",
    "# MODEL OBTIMIZATION #\n",
    "\n",
    "model.optimize()\n"
   ]
  },
  {
   "cell_type": "code",
   "execution_count": 60,
   "metadata": {},
   "outputs": [
    {
     "data": {
      "text/html": [
       "<h3>Objective</h3><p>1.0 Result = 5.0</p><h4>Uptake</h4><table border=\"1\" class=\"dataframe\">\n",
       "  <thead>\n",
       "    <tr style=\"text-align: right;\">\n",
       "      <th>Metabolite</th>\n",
       "      <th>Reaction</th>\n",
       "      <th>Flux</th>\n",
       "      <th>C-Number</th>\n",
       "      <th>C-Flux</th>\n",
       "    </tr>\n",
       "  </thead>\n",
       "  <tbody>\n",
       "    <tr>\n",
       "      <td>A</td>\n",
       "      <td>Reaction0</td>\n",
       "      <td>40</td>\n",
       "      <td>0</td>\n",
       "      <td>0.00%</td>\n",
       "    </tr>\n",
       "  </tbody>\n",
       "</table><h4>Secretion</h4><table border=\"1\" class=\"dataframe\">\n",
       "  <thead>\n",
       "    <tr style=\"text-align: right;\">\n",
       "      <th>Metabolite</th>\n",
       "      <th>Reaction</th>\n",
       "      <th>Flux</th>\n",
       "      <th>C-Number</th>\n",
       "      <th>C-Flux</th>\n",
       "    </tr>\n",
       "  </thead>\n",
       "  <tbody>\n",
       "    <tr>\n",
       "      <td>ATP</td>\n",
       "      <td>Reaction4</td>\n",
       "      <td>-35</td>\n",
       "      <td>0</td>\n",
       "      <td>0.00%</td>\n",
       "    </tr>\n",
       "    <tr>\n",
       "      <td>C</td>\n",
       "      <td>Result</td>\n",
       "      <td>-5</td>\n",
       "      <td>0</td>\n",
       "      <td>0.00%</td>\n",
       "    </tr>\n",
       "  </tbody>\n",
       "</table>"
      ],
      "text/plain": [
       "<cobra.summary.model_summary.ModelSummary at 0x2957ba8ff88>"
      ]
     },
     "execution_count": 60,
     "metadata": {},
     "output_type": "execute_result"
    }
   ],
   "source": [
    "\n",
    "model.summary()\n"
   ]
  },
  {
   "cell_type": "code",
   "execution_count": null,
   "metadata": {},
   "outputs": [],
   "source": []
  }
 ],
 "metadata": {
  "kernelspec": {
   "display_name": "Python 3",
   "language": "python",
   "name": "python3"
  },
  "language_info": {
   "codemirror_mode": {
    "name": "ipython",
    "version": 3
   },
   "file_extension": ".py",
   "mimetype": "text/x-python",
   "name": "python",
   "nbconvert_exporter": "python",
   "pygments_lexer": "ipython3",
   "version": "3.7.4"
  }
 },
 "nbformat": 4,
 "nbformat_minor": 4
}
